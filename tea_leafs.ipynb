{
 "cells": [
  {
   "cell_type": "code",
   "execution_count": 22,
   "id": "73fafaae",
   "metadata": {},
   "outputs": [],
   "source": [
    "import numpy as np\n",
    "import pandas as pd\n",
    "import matplotlib.pyplot as plt\n",
    "import os\n",
    "import PIL\n",
    "import tensorflow as tf\n",
    "import pathlib\n",
    "\n",
    "from PIL import Image\n",
    "from tensorflow import keras\n",
    "from tensorflow.keras import layers\n",
    "from tensorflow.keras.models import Sequential\n",
    "from sklearn.metrics import classification_report\n"
   ]
  },
  {
   "cell_type": "markdown",
   "id": "3b822b47",
   "metadata": {},
   "source": [
    "#  Data Loading"
   ]
  },
  {
   "cell_type": "code",
   "execution_count": 23,
   "id": "b6e6cdda",
   "metadata": {},
   "outputs": [],
   "source": [
    "dataset_path = \"./tea sickness dataset\"\n",
    "dataset_dir = pathlib.Path(dataset_path)\n",
    "\n",
    "class_names = os.listdir(dataset_dir)\n",
    "num_class = len(class_names)\n",
    "image_files = [[os.path.join(dataset_dir, class_name, x) \n",
    "               for x in os.listdir(os.path.join(dataset_dir, class_name))] \n",
    "               for class_name in class_names]"
   ]
  },
  {
   "cell_type": "code",
   "execution_count": 24,
   "id": "44bd741b",
   "metadata": {},
   "outputs": [],
   "source": [
    "image_file_list = []\n",
    "image_label_list = []\n",
    "for i, class_name in enumerate(class_names):\n",
    "    image_file_list.extend(image_files[i])\n",
    "    image_label_list.extend([i] * len(image_files[i]))\n",
    "num_total = len(image_label_list)"
   ]
  },
  {
   "cell_type": "code",
   "execution_count": 25,
   "id": "5731d2db",
   "metadata": {},
   "outputs": [
    {
     "name": "stdout",
     "output_type": "stream",
     "text": [
      "Total image count: 885\n",
      "Image dimensions: 768 x 1024\n",
      "Label names: ['algal leaf', 'Anthracnose', 'bird eye spot', 'brown blight', 'gray light', 'healthy', 'red leaf spot', 'white spot']\n",
      "Label counts: [113, 100, 100, 113, 100, 74, 143, 142]\n"
     ]
    }
   ],
   "source": [
    "image_width, image_height = Image.open(image_file_list[0]).size\n",
    "\n",
    "print('Total image count:', num_total)\n",
    "print(\"Image dimensions:\", image_width, \"x\", image_height)\n",
    "print(\"Label names:\", class_names)\n",
    "print(\"Label counts:\", [len(image_files[i]) for i in range(num_class)])"
   ]
  },
  {
   "cell_type": "code",
   "execution_count": null,
   "id": "10f60eb8",
   "metadata": {},
   "outputs": [],
   "source": []
  }
 ],
 "metadata": {
  "kernelspec": {
   "display_name": "Python 3 (ipykernel)",
   "language": "python",
   "name": "python3"
  },
  "language_info": {
   "codemirror_mode": {
    "name": "ipython",
    "version": 3
   },
   "file_extension": ".py",
   "mimetype": "text/x-python",
   "name": "python",
   "nbconvert_exporter": "python",
   "pygments_lexer": "ipython3",
   "version": "3.9.12"
  }
 },
 "nbformat": 4,
 "nbformat_minor": 5
}
